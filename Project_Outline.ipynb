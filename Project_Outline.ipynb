{
  "nbformat": 4,
  "nbformat_minor": 0,
  "metadata": {
    "colab": {
      "provenance": []
    },
    "kernelspec": {
      "name": "python3",
      "display_name": "Python 3"
    },
    "language_info": {
      "name": "python"
    }
  },
  "cells": [
    {
      "cell_type": "markdown",
      "source": [
        "# **Title of Project**"
      ],
      "metadata": {
        "id": "dqZ-nhxiganh"
      }
    },
    {
      "cell_type": "markdown",
      "source": [
        "# ***Bank_customer***"
      ],
      "metadata": {
        "id": "gScHkw6jjrLo"
      }
    },
    {
      "cell_type": "markdown",
      "source": [
        "## **Objective**"
      ],
      "metadata": {
        "id": "Xns_rCdhh-vZ"
      }
    },
    {
      "cell_type": "markdown",
      "source": [
        "# The objective of this project is to analyze and improve the financial management and service experiences of 'bank customers'. This includes ensuring the security of their funds, enhancing the convenience of transactions, providing access to credit, offering investment opportunities, supporting financial planning, minimizing costs, and delivering high-quality customer service. The project also aims to leverage digital banking services to provide 24/7 account management and support."
      ],
      "metadata": {
        "id": "9sPvnFM1iI9l"
      }
    },
    {
      "cell_type": "markdown",
      "source": [
        "## **Data Source**"
      ],
      "metadata": {
        "id": "-Vbnt9CciKJP"
      }
    },
    {
      "cell_type": "markdown",
      "source": [
        "YBI Foundation Github"
      ],
      "metadata": {
        "id": "sGcv5WqQiNyl"
      }
    },
    {
      "cell_type": "markdown",
      "source": [
        "## **Import Library**"
      ],
      "metadata": {
        "id": "r7GrZzX0iTlV"
      }
    },
    {
      "cell_type": "code",
      "source": [
        "import pandas as pd\n",
        "import numpy as np\n",
        "import matplotlib.pyplot as plt\n",
        "import seaborn as sns"
      ],
      "metadata": {
        "id": "UkK6NH9DiW-X"
      },
      "execution_count": 1,
      "outputs": []
    },
    {
      "cell_type": "markdown",
      "source": [
        "## **Import Data**"
      ],
      "metadata": {
        "id": "9lHPQj1XiOUc"
      }
    },
    {
      "cell_type": "markdown",
      "source": [
        "df = pd.read_csv('https://github.com/YBIFoundation/Dataset/raw/main/Bank%20Churn%20Modelling.csv')\n"
      ],
      "metadata": {
        "id": "zcU1fdnGho6M"
      }
    },
    {
      "cell_type": "code",
      "source": [
        "df.head()\n"
      ],
      "metadata": {
        "id": "Qji0RmYuDjjZ",
        "colab": {
          "base_uri": "https://localhost:8080/",
          "height": 141
        },
        "outputId": "ad7c8216-2fcd-49eb-c464-d92b921cc267"
      },
      "execution_count": 2,
      "outputs": [
        {
          "output_type": "error",
          "ename": "NameError",
          "evalue": "name 'df' is not defined",
          "traceback": [
            "\u001b[0;31m---------------------------------------------------------------------------\u001b[0m",
            "\u001b[0;31mNameError\u001b[0m                                 Traceback (most recent call last)",
            "\u001b[0;32m<ipython-input-2-c42a15b2c7cf>\u001b[0m in \u001b[0;36m<cell line: 1>\u001b[0;34m()\u001b[0m\n\u001b[0;32m----> 1\u001b[0;31m \u001b[0mdf\u001b[0m\u001b[0;34m.\u001b[0m\u001b[0mhead\u001b[0m\u001b[0;34m(\u001b[0m\u001b[0;34m)\u001b[0m\u001b[0;34m\u001b[0m\u001b[0;34m\u001b[0m\u001b[0m\n\u001b[0m",
            "\u001b[0;31mNameError\u001b[0m: name 'df' is not defined"
          ]
        }
      ]
    },
    {
      "cell_type": "code",
      "source": [
        "df.info()"
      ],
      "metadata": {
        "id": "VZks2guFDj7y"
      },
      "execution_count": null,
      "outputs": []
    },
    {
      "cell_type": "code",
      "source": [
        "df.describe()"
      ],
      "metadata": {
        "id": "-ggRY0SiDkGi"
      },
      "execution_count": null,
      "outputs": []
    },
    {
      "cell_type": "markdown",
      "source": [
        "df.duplicated('CustomerId').sum()"
      ],
      "metadata": {
        "id": "kG15arusiZ8Z"
      }
    },
    {
      "cell_type": "code",
      "source": [
        "df.info()"
      ],
      "metadata": {
        "id": "prew9k5ld8ZB"
      },
      "execution_count": null,
      "outputs": []
    },
    {
      "cell_type": "markdown",
      "source": [
        "## **Data Visualization**"
      ],
      "metadata": {
        "id": "oBGX4Ekniriz"
      }
    },
    {
      "cell_type": "code",
      "source": [
        "df['Geography'].value_counts()"
      ],
      "metadata": {
        "id": "lW-OIRK0iuzO"
      },
      "execution_count": null,
      "outputs": []
    },
    {
      "cell_type": "code",
      "source": [
        "df.replace({'Geography':{'France':2, 'Germany':1, 'Spain':0}}, inplace=True)"
      ],
      "metadata": {
        "id": "kKLPqewtgUEx"
      },
      "execution_count": null,
      "outputs": []
    },
    {
      "cell_type": "code",
      "source": [
        "df['Gender'].value_counts()"
      ],
      "metadata": {
        "id": "p9CbvwLDgUuT"
      },
      "execution_count": null,
      "outputs": []
    },
    {
      "cell_type": "code",
      "source": [
        "df.replace({'Gender':{'Male':0, 'Female':1}}, inplace= True)"
      ],
      "metadata": {
        "id": "AKbF6PIQgU4C"
      },
      "execution_count": null,
      "outputs": []
    },
    {
      "cell_type": "code",
      "source": [
        "df['Num Of Products'].value_counts()"
      ],
      "metadata": {
        "id": "vMY17CSDgU_v"
      },
      "execution_count": null,
      "outputs": []
    },
    {
      "cell_type": "code",
      "source": [
        "df.replace({'Num Of Products':{1:0, 2:1 , 3:1, 4:1}} , inplace=True)"
      ],
      "metadata": {
        "id": "GVmSV-rmgrL7"
      },
      "execution_count": null,
      "outputs": []
    },
    {
      "cell_type": "code",
      "source": [
        "df['Has Credit Card'].value_counts()"
      ],
      "metadata": {
        "id": "3uTR3jALgrWS"
      },
      "execution_count": null,
      "outputs": []
    },
    {
      "cell_type": "code",
      "source": [
        "df.replace({'Has Credit Card': { 1:0 , 0:1}} , inplace=True)"
      ],
      "metadata": {
        "id": "ORekCoSvgreI"
      },
      "execution_count": null,
      "outputs": []
    },
    {
      "cell_type": "code",
      "source": [
        "df['Is Active Member'].value_counts()"
      ],
      "metadata": {
        "id": "HBsirujogrkp"
      },
      "execution_count": null,
      "outputs": []
    },
    {
      "cell_type": "code",
      "source": [
        " df.loc[(df['Balance']==0), 'Churn'].value_counts()"
      ],
      "metadata": {
        "id": "otzZDn1GgrrY"
      },
      "execution_count": null,
      "outputs": []
    },
    {
      "cell_type": "code",
      "source": [
        "df['Zero Balance'] =np.where(df['Balance']>0, 1, 0)"
      ],
      "metadata": {
        "id": "1Zgu9Iv_grx3"
      },
      "execution_count": null,
      "outputs": []
    },
    {
      "cell_type": "code",
      "source": [
        "df['Zero Balance'].hist()"
      ],
      "metadata": {
        "id": "JQ9Z0ZDMhA5S"
      },
      "execution_count": null,
      "outputs": []
    },
    {
      "cell_type": "code",
      "source": [
        "df.groupby(['Churn' , 'Geography']).count()"
      ],
      "metadata": {
        "id": "VaAYZ-vnhBRt"
      },
      "execution_count": null,
      "outputs": []
    },
    {
      "cell_type": "markdown",
      "source": [
        "## **Data Preprocessing**"
      ],
      "metadata": {
        "id": "UqfyPOCYiiww"
      }
    },
    {
      "cell_type": "code",
      "source": [
        "df.columns"
      ],
      "metadata": {
        "id": "3cyr3fbGin0A"
      },
      "execution_count": null,
      "outputs": []
    },
    {
      "cell_type": "markdown",
      "source": [
        "## **Define Target Variable (y) and Feature Variables (X)**"
      ],
      "metadata": {
        "id": "2jXJpdAuiwYW"
      }
    },
    {
      "cell_type": "code",
      "source": [
        "x = df.drop(['Surname' , 'Churn'], axis = 1)"
      ],
      "metadata": {
        "id": "-ZMsvUyhhR4w"
      },
      "execution_count": null,
      "outputs": []
    },
    {
      "cell_type": "code",
      "source": [
        "y = df['Churn']"
      ],
      "metadata": {
        "id": "ePfIpLu8hXP6"
      },
      "execution_count": null,
      "outputs": []
    },
    {
      "cell_type": "code",
      "source": [
        "x.shape , y.shape"
      ],
      "metadata": {
        "id": "_OEvvRSPhXpT"
      },
      "execution_count": null,
      "outputs": []
    },
    {
      "cell_type": "code",
      "source": [
        "df['Churn'].value_counts()"
      ],
      "metadata": {
        "id": "jQGGa1sbhXxS"
      },
      "execution_count": null,
      "outputs": []
    },
    {
      "cell_type": "code",
      "source": [
        "sns.countplot(x = 'Churn', data = df)"
      ],
      "metadata": {
        "id": "Lhm31DxlhgIw"
      },
      "execution_count": null,
      "outputs": []
    },
    {
      "cell_type": "code",
      "source": [
        "x.shape,y.shape"
      ],
      "metadata": {
        "id": "_E8EA_QyhgX_"
      },
      "execution_count": null,
      "outputs": []
    },
    {
      "cell_type": "markdown",
      "source": [
        "## **Train Test Split**"
      ],
      "metadata": {
        "id": "90_0q_Pbi658"
      }
    },
    {
      "cell_type": "code",
      "source": [
        "from sklearn.model_selection import train_test_split"
      ],
      "metadata": {
        "id": "u60YYaOFi-Dw"
      },
      "execution_count": null,
      "outputs": []
    },
    {
      "cell_type": "markdown",
      "source": [
        "## **Modeling**"
      ],
      "metadata": {
        "id": "cIhyseNria7W"
      }
    },
    {
      "cell_type": "code",
      "source": [
        "from sklearn.metrics import confusion_matrix, classification_report"
      ],
      "metadata": {
        "id": "Toq58wpkjCw7"
      },
      "execution_count": null,
      "outputs": []
    },
    {
      "cell_type": "code",
      "source": [
        "confusion_matrix(y_test, y_pred)"
      ],
      "metadata": {
        "id": "dCduXw7fiVbJ"
      },
      "execution_count": null,
      "outputs": []
    },
    {
      "cell_type": "code",
      "source": [
        "print ( classification_report(y_test,y_pred))"
      ],
      "metadata": {
        "id": "hy3Q2NtgiX04"
      },
      "execution_count": null,
      "outputs": []
    },
    {
      "cell_type": "markdown",
      "source": [
        "## **Model Evaluation**"
      ],
      "metadata": {
        "id": "vhAwWfG0jFun"
      }
    },
    {
      "cell_type": "code",
      "source": [
        "svc_rus=SVC()"
      ],
      "metadata": {
        "id": "lND3jJj_jhx4"
      },
      "execution_count": null,
      "outputs": []
    },
    {
      "cell_type": "code",
      "source": [
        "svc_rus.fit(x_train_rus, y_train_rus)"
      ],
      "metadata": {
        "id": "IeTBsNbLjOOL"
      },
      "execution_count": null,
      "outputs": []
    },
    {
      "cell_type": "code",
      "source": [
        "y_pred_rus = svc_rus.predict(x_test_rus)"
      ],
      "metadata": {
        "id": "WFMGNYhSjOez"
      },
      "execution_count": null,
      "outputs": []
    },
    {
      "cell_type": "code",
      "source": [
        "confusion_matrix(y_test_ros, y_pred_ros)"
      ],
      "metadata": {
        "id": "IBTikdy1jOtz"
      },
      "execution_count": null,
      "outputs": []
    },
    {
      "cell_type": "markdown",
      "source": [
        "## **Prediction**"
      ],
      "metadata": {
        "id": "8AzwG7oLjiQI"
      }
    },
    {
      "cell_type": "markdown",
      "source": [
        "param_grid = {'C' : [0.1,1, 10],\n",
        "              'gamma' : [1,0.1,0.01],\n",
        "              'kernel':['rbf'],\n",
        "              'class_weight' : ['balanced']}"
      ],
      "metadata": {
        "id": "JLebGzDJjknA"
      }
    },
    {
      "cell_type": "code",
      "source": [
        "grid_ros = GridSearchCV(SVC(),param_grid,refit= True,verbose=2, cv = 2)\n",
        "grid_ros.fit(x_train_ros,y_train_ros)"
      ],
      "metadata": {
        "id": "Z2cSls9ijw2v"
      },
      "execution_count": null,
      "outputs": []
    },
    {
      "cell_type": "code",
      "source": [
        " print(grid_ros.best_estimator_)"
      ],
      "metadata": {
        "id": "0AOqkQVyj1kY"
      },
      "execution_count": null,
      "outputs": []
    },
    {
      "cell_type": "code",
      "source": [
        "grid_predictions_ros = grid_ros.predict(x_test_ros)"
      ],
      "metadata": {
        "id": "pQzV4y-sj4Jq"
      },
      "execution_count": null,
      "outputs": []
    },
    {
      "cell_type": "code",
      "source": [
        "confusion_matrix(y_test_ros, grid_predictions_ros)"
      ],
      "metadata": {
        "id": "QoIcUZdWj4Tc"
      },
      "execution_count": null,
      "outputs": []
    },
    {
      "cell_type": "code",
      "source": [
        "print ( classification_report(y_test_ros,grid_predictions_ros))"
      ],
      "metadata": {
        "id": "stScq4loj4av"
      },
      "execution_count": null,
      "outputs": []
    },
    {
      "cell_type": "code",
      "source": [
        "print (classification_report(y_test,y_pred))"
      ],
      "metadata": {
        "id": "I0DwQxe5kD8E"
      },
      "execution_count": null,
      "outputs": []
    },
    {
      "cell_type": "code",
      "source": [
        "print ( classification_report(y_test,grid_predictions))"
      ],
      "metadata": {
        "id": "X5r6FHcKkDyC"
      },
      "execution_count": null,
      "outputs": []
    },
    {
      "cell_type": "code",
      "source": [
        "print ( classification_report(y_test_rus,y_pred_rus))"
      ],
      "metadata": {
        "id": "I6gQQhJhkJ7V"
      },
      "execution_count": null,
      "outputs": []
    },
    {
      "cell_type": "code",
      "source": [
        "print ( classification_report(y_test,grid_predictions))"
      ],
      "metadata": {
        "id": "hvYmhlQ7kJp3"
      },
      "execution_count": null,
      "outputs": []
    },
    {
      "cell_type": "code",
      "source": [
        "print ( classification_report(y_test_rus,y_pred_rus))"
      ],
      "metadata": {
        "id": "duWXcnmdkOyp"
      },
      "execution_count": null,
      "outputs": []
    },
    {
      "cell_type": "code",
      "source": [
        "print ( classification_report(y_test_rus,grid_predictions_rus))"
      ],
      "metadata": {
        "id": "5PIsF4DNkRDp"
      },
      "execution_count": null,
      "outputs": []
    },
    {
      "cell_type": "code",
      "source": [
        "print ( classification_report(y_test_ros,y_pred_ros))"
      ],
      "metadata": {
        "id": "sJrUmTzLkUOk"
      },
      "execution_count": null,
      "outputs": []
    },
    {
      "cell_type": "code",
      "source": [
        "print ( classification_report(y_test_ros,grid_predictions_ros))"
      ],
      "metadata": {
        "id": "pFDY8paAkUx5"
      },
      "execution_count": null,
      "outputs": []
    },
    {
      "cell_type": "markdown",
      "source": [
        "## **Explaination**"
      ],
      "metadata": {
        "id": "SBo38CJZjlEX"
      }
    },
    {
      "cell_type": "markdown",
      "source": [
        "The code begins by loading the dataset and conducting an initial exploration to understand its structure, check for duplicates, and ensure data quality. The CustomerId is set as the index for better data handling. Next, categorical variables such as Geography, Gender, Num Of Products, and Has Credit Card are encoded to numerical values, and a new binary feature Zero Balance is created to indicate if the balance is zero or not. The dataset is then split into features (x) and the target variable (y), followed by dividing it into training and testing sets. Numerical features (CreditScore, Age, Tenure, Balance, Estimated Salary) are standardized to improve the model's performance.\n",
        "\n",
        "To address class imbalance, Random Under Sampling (RUS) is applied to downsample the majority class, and Random Over Sampling (ROS) is used to upsample the minority class, creating balanced datasets. A Support Vector Classifier (SVC) is trained on the original, RUS, and ROS datasets. Each model is evaluated using confusion matrices and classification reports to compare their performance.\n",
        "\n",
        "Hyperparameter tuning is then performed using GridSearchCV to find the best parameters for the SVC on all datasets. The best parameters are identified, and the tuned models are evaluated to determine their effectiveness. The overall process encompasses data preparation, balancing, modeling, evaluation, and optimization to predict customer churn using an SVC model."
      ],
      "metadata": {
        "id": "Ybi8FR9Kjv00"
      }
    }
  ]
}